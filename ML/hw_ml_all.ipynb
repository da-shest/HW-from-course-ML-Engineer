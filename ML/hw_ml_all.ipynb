{
 "cells": [
  {
   "cell_type": "markdown",
   "id": "911f8411",
   "metadata": {},
   "source": [
    "## ДЗ 1 (Numpy, Pandas, Scipy)\n",
    "\n",
    "### Базовый уровень"
   ]
  },
  {
   "cell_type": "markdown",
   "id": "7ec43e4d",
   "metadata": {},
   "source": [
    "#### Задние 1"
   ]
  },
  {
   "cell_type": "code",
   "execution_count": null,
   "id": "273a04bd",
   "metadata": {},
   "outputs": [],
   "source": [
    "import numpy as np\n",
    "import pandas as pd\n",
    "from scipy import stats"
   ]
  },
  {
   "cell_type": "code",
   "execution_count": null,
   "id": "43a2538c",
   "metadata": {},
   "outputs": [],
   "source": [
    "def task1_numpy_arrays(matrix_file='../data/matrix.npy'):\n",
    "    \"\"\"\n",
    "    Задание 1: Работа с NumPy массивами\n",
    "\n",
    "    Дана матрица корреляций в файле matrix.npy.\n",
    "    \n",
    "    Вычислите:\n",
    "    1. Сумму всех элементов матрицы (округлите до 2 знаков после запятой)\n",
    "    2. Среднее значение элементов матрицы (округлите до 2 знаков после запятой)\n",
    "    3. Максимальное значение в матрице (округлите до 2 знаков после запятой)\n",
    "    4. Минимальное значение в матрице (округлите до 2 знаков после запятой)\n",
    "\n",
    "    Returns:\n",
    "        dict: {\n",
    "            'sum': сумма, \n",
    "            'mean': среднее, \n",
    "            'max': максимум, \n",
    "            'min': минимум\n",
    "        }\n",
    "    \"\"\"\n",
    "    # Загрузка данных\n",
    "    matrix = np.load(matrix_file)\n",
    "    \n",
    "    # Ваше решение\n",
    "\n",
    "    return {\n",
    "        'sum': matrix.sum().round(2),\n",
    "        'mean': matrix.mean().round(2),\n",
    "        'max': matrix.max().round(2),\n",
    "        'min': matrix.min().round(2)\n",
    "    } # Верните словарь с результатами"
   ]
  },
  {
   "cell_type": "code",
   "execution_count": null,
   "id": "033c8626",
   "metadata": {},
   "outputs": [
    {
     "name": "stdout",
     "output_type": "stream",
     "text": [
      "[[1.         0.55017376 0.37340995 0.58408758 0.44032665]\n",
      " [0.55017376 1.         0.65890815 0.06621102 0.66006718]\n",
      " [0.37340995 0.65890815 1.         0.3514742  0.68561376]\n",
      " [0.58408758 0.06621102 0.3514742  1.         0.6113814 ]\n",
      " [0.44032665 0.66006718 0.68561376 0.6113814  1.        ]]\n"
     ]
    },
    {
     "data": {
      "text/plain": [
       "{'sum': 14.96, 'mean': 0.6, 'max': 1.0, 'min': 0.07}"
      ]
     },
     "metadata": {},
     "output_type": "display_data"
    }
   ],
   "source": [
    "print(np.load('../data/matrix.npy'))\n",
    "task1_numpy_arrays()"
   ]
  },
  {
   "cell_type": "markdown",
   "id": "5b0ae377",
   "metadata": {},
   "source": [
    "#### Задние 2"
   ]
  },
  {
   "cell_type": "code",
   "execution_count": null,
   "id": "a02cac7a",
   "metadata": {},
   "outputs": [],
   "source": [
    "def task2_dataframe_basic(data_file='../data/data_pd.csv'):\n",
    "    \"\"\"\n",
    "    Задание 2: Базовые операции с DataFrame\n",
    "\n",
    "    Используя DataFrame из сгенерированных данных в data_pd.csv, вычислите:\n",
    "    1. Средний возраст сотрудников (округлите до 2 знаков после запятой)\n",
    "    2. Медианный доход (округлите до 2 знаков после запятой)\n",
    "    3. Количество сотрудников с высшим образованием (PhD)\n",
    "    4. Максимальный опыт работы (округлите до 2 знаков после запятой)\n",
    "    5. Среднюю производительность (округлите до 3 знаков после запятой)\n",
    "    6. Количество сотрудников в IT отделе\n",
    "\n",
    "    Returns:\n",
    "        dict: {\n",
    "            'mean_age': средний_возраст, \n",
    "            'median_income': медианный_доход, \n",
    "            'phd_count': количество_PhD, \n",
    "            'max_experience': максимальный_опыт, \n",
    "            'mean_performance': средняя_производительность, \n",
    "            'it_count': количество_IT\n",
    "        }\n",
    "    \"\"\"\n",
    "    # Загрузка данных\n",
    "    df = pd.read_csv(data_file)\n",
    "    \n",
    "    # Ваше решение\n",
    "    \n",
    "    return {\n",
    "        'mean_age': df['age'].mean().round(2),\n",
    "        'median_income': df['income'].median().round(2),\n",
    "        'phd_count': (df['education'] == 'PhD').sum(),\n",
    "        'max_experience': df['experience'].max().round(2),\n",
    "        'mean_performance': df['performance'].mean().round(3),\n",
    "        'it_count': (df['department'] == 'IT').sum()\n",
    "    } # Верните словарь с результатами"
   ]
  },
  {
   "cell_type": "code",
   "execution_count": null,
   "id": "7f1a337c",
   "metadata": {},
   "outputs": [
    {
     "data": {
      "text/html": [
       "<div>\n",
       "<style scoped>\n",
       "    .dataframe tbody tr th:only-of-type {\n",
       "        vertical-align: middle;\n",
       "    }\n",
       "\n",
       "    .dataframe tbody tr th {\n",
       "        vertical-align: top;\n",
       "    }\n",
       "\n",
       "    .dataframe thead th {\n",
       "        text-align: right;\n",
       "    }\n",
       "</style>\n",
       "<table border=\"1\" class=\"dataframe\">\n",
       "  <thead>\n",
       "    <tr style=\"text-align: right;\">\n",
       "      <th></th>\n",
       "      <th>age</th>\n",
       "      <th>income</th>\n",
       "      <th>education</th>\n",
       "      <th>experience</th>\n",
       "      <th>performance</th>\n",
       "      <th>department</th>\n",
       "      <th>satisfaction</th>\n",
       "      <th>bonus</th>\n",
       "    </tr>\n",
       "  </thead>\n",
       "  <tbody>\n",
       "    <tr>\n",
       "      <th>0</th>\n",
       "      <td>21.072681</td>\n",
       "      <td>74562.784638</td>\n",
       "      <td>Master</td>\n",
       "      <td>4</td>\n",
       "      <td>0.374508</td>\n",
       "      <td>Finance</td>\n",
       "      <td>3</td>\n",
       "      <td>965.918456</td>\n",
       "    </tr>\n",
       "    <tr>\n",
       "      <th>1</th>\n",
       "      <td>28.217903</td>\n",
       "      <td>41063.253861</td>\n",
       "      <td>PhD</td>\n",
       "      <td>4</td>\n",
       "      <td>0.252764</td>\n",
       "      <td>Finance</td>\n",
       "      <td>1</td>\n",
       "      <td>9726.694926</td>\n",
       "    </tr>\n",
       "    <tr>\n",
       "      <th>2</th>\n",
       "      <td>24.687776</td>\n",
       "      <td>67080.000231</td>\n",
       "      <td>Bachelor</td>\n",
       "      <td>7</td>\n",
       "      <td>0.272606</td>\n",
       "      <td>IT</td>\n",
       "      <td>1</td>\n",
       "      <td>3411.828701</td>\n",
       "    </tr>\n",
       "    <tr>\n",
       "      <th>3</th>\n",
       "      <td>30.408827</td>\n",
       "      <td>8746.205642</td>\n",
       "      <td>Master</td>\n",
       "      <td>9</td>\n",
       "      <td>0.479447</td>\n",
       "      <td>IT</td>\n",
       "      <td>4</td>\n",
       "      <td>5269.686697</td>\n",
       "    </tr>\n",
       "    <tr>\n",
       "      <th>4</th>\n",
       "      <td>26.081664</td>\n",
       "      <td>11268.720259</td>\n",
       "      <td>PhD</td>\n",
       "      <td>4</td>\n",
       "      <td>0.336153</td>\n",
       "      <td>Finance</td>\n",
       "      <td>5</td>\n",
       "      <td>7160.761956</td>\n",
       "    </tr>\n",
       "  </tbody>\n",
       "</table>\n",
       "</div>"
      ],
      "text/plain": [
       "         age        income education  experience  performance department  \\\n",
       "0  21.072681  74562.784638    Master           4     0.374508    Finance   \n",
       "1  28.217903  41063.253861       PhD           4     0.252764    Finance   \n",
       "2  24.687776  67080.000231  Bachelor           7     0.272606         IT   \n",
       "3  30.408827   8746.205642    Master           9     0.479447         IT   \n",
       "4  26.081664  11268.720259       PhD           4     0.336153    Finance   \n",
       "\n",
       "   satisfaction        bonus  \n",
       "0             3   965.918456  \n",
       "1             1  9726.694926  \n",
       "2             1  3411.828701  \n",
       "3             4  5269.686697  \n",
       "4             5  7160.761956  "
      ]
     },
     "metadata": {},
     "output_type": "display_data"
    }
   ],
   "source": [
    "pd.read_csv('../data/data_pd.csv').head()"
   ]
  },
  {
   "cell_type": "code",
   "execution_count": null,
   "id": "a617bbda",
   "metadata": {},
   "outputs": [
    {
     "data": {
      "text/plain": [
       "{'mean_age': 24.99,\n",
       " 'median_income': 35020.3,\n",
       " 'phd_count': 2001,\n",
       " 'max_experience': 15,\n",
       " 'mean_performance': 0.285,\n",
       " 'it_count': 1475}"
      ]
     },
     "metadata": {},
     "output_type": "display_data"
    }
   ],
   "source": [
    "task2_dataframe_basic()"
   ]
  },
  {
   "cell_type": "markdown",
   "id": "5c233354",
   "metadata": {},
   "source": [
    "#### Задние 3"
   ]
  },
  {
   "cell_type": "code",
   "execution_count": null,
   "id": "cb4e0678",
   "metadata": {},
   "outputs": [],
   "source": [
    "def task3_groupby_aggregation(data_file='../data/data_pd.csv'):\n",
    "    \"\"\"\n",
    "    Задание 3: Группировка и агрегация\n",
    "\n",
    "    Используя DataFrame из data_pd.csv, вычислите:\n",
    "    1. Средний доход по отделам (округлите до 2 знаков после запятой для каждого отдела)\n",
    "    2. Максимальный бонус по уровням образования (округлите до 2 знаков после запятой для каждого уровня)\n",
    "    3. Количество сотрудников по отделам\n",
    "    4. Средний опыт работы по отделам (округлите до 2 знаков после запятой для каждого отдела)\n",
    "\n",
    "    Returns:\n",
    "        dict: {\n",
    "            'avg_income_by_dept': {\n",
    "                'IT': средний_доход_IT,\n",
    "                'HR': средний_доход_HR,\n",
    "                'Finance': средний_доход_Finance,\n",
    "                'Marketing': средний_доход_Marketing\n",
    "            },\n",
    "            'max_bonus_by_education': {\n",
    "                'Bachelor': максимальный_бонус_Bachelor,\n",
    "                'Master': максимальный_бонус_Master,\n",
    "                'PhD': максимальный_бонус_PhD\n",
    "            },\n",
    "            'count_by_dept': {\n",
    "                'IT': количество_IT,\n",
    "                'HR': количество_HR,\n",
    "                'Finance': количество_Finance,\n",
    "                'Marketing': количество_Marketing\n",
    "            },\n",
    "            'avg_exp_by_dept': {\n",
    "                'IT': средний_опыт_IT,\n",
    "                'HR': средний_опыт_HR,\n",
    "                'Finance': средний_опыт_Finance,\n",
    "                'Marketing': средний_опыт_Marketing\n",
    "            }\n",
    "        }\n",
    "    \"\"\"\n",
    "    # Загрузка данных\n",
    "    df = pd.read_csv(data_file)\n",
    "    \n",
    "    # Ваше решение\n",
    "    \n",
    "    return {\n",
    "        'avg_income_by_dept': df.groupby('department')['income'].mean().round(2).to_dict(),\n",
    "        'max_bonus_by_education': df.groupby('education')['bonus'].max().round(2).to_dict(),\n",
    "        'count_by_dept': df.groupby('department').size().to_dict(),\n",
    "        'avg_exp_by_dept': df.groupby('department')['experience'].mean().round(2).to_dict()\n",
    "    } # Верните словарь с результатами"
   ]
  },
  {
   "cell_type": "code",
   "execution_count": null,
   "id": "1b6b9639",
   "metadata": {},
   "outputs": [
    {
     "data": {
      "text/plain": [
       "{'avg_income_by_dept': {'Finance': 49531.8,\n",
       "  'HR': 50592.75,\n",
       "  'IT': 49756.31,\n",
       "  'Marketing': 48626.71},\n",
       " 'max_bonus_by_education': {'Bachelor': 9985.22,\n",
       "  'Master': 9994.35,\n",
       "  'PhD': 9993.97},\n",
       " 'count_by_dept': {'Finance': 1559, 'HR': 1490, 'IT': 1475, 'Marketing': 1476},\n",
       " 'avg_exp_by_dept': {'Finance': 5.05,\n",
       "  'HR': 4.93,\n",
       "  'IT': 5.09,\n",
       "  'Marketing': 4.99}}"
      ]
     },
     "metadata": {},
     "output_type": "display_data"
    }
   ],
   "source": [
    "task3_groupby_aggregation()"
   ]
  },
  {
   "cell_type": "markdown",
   "id": "8b456d90",
   "metadata": {},
   "source": [
    "#### Задние 4"
   ]
  },
  {
   "cell_type": "code",
   "execution_count": null,
   "id": "df41431a",
   "metadata": {},
   "outputs": [],
   "source": [
    "def task4_data_filtering(data_file='../data/data_pd.csv'):\n",
    "    \"\"\"\n",
    "    Задание 4: Фильтрация данных\n",
    "\n",
    "    Используя DataFrame из data_pd.csv, вычислите:\n",
    "    1. Средний доход сотрудников старше 30 лет (округлите до 2 знаков после запятой)\n",
    "    2. Максимальный бонус в IT отделе (округлите до 2 знаков после запятой)\n",
    "    3. Средний опыт работы сотрудников с PhD (округлите до 2 знаков после запятой)\n",
    "    4. Количество сотрудников с доходом выше 100000\n",
    "    5. Среднюю удовлетворенность в Finance отделе (округлите до 2 знаков после запятой)\n",
    "\n",
    "    Returns:\n",
    "        dict: {\n",
    "            'mean_income_over_30': средний_доход_старше_30,\n",
    "            'max_bonus_it': максимальный_бонус_IT,\n",
    "            'mean_exp_phd': средний_опыт_PhD,\n",
    "            'high_income_count': количество_высокий_доход,\n",
    "            'mean_satisfaction_finance': средняя_удовлетворенность_Finance\n",
    "        }\n",
    "    \"\"\"\n",
    "    # Загрузка данных\n",
    "    df = pd.read_csv(data_file)\n",
    "    \n",
    "    # Ваше решение\n",
    "    \n",
    "    return {\n",
    "        'mean_income_over_30': df[df['age'] > 30]['income'].mean().round(2),\n",
    "        'max_bonus_it': df[df['department'] == 'IT']['bonus'].max().round(2),\n",
    "        'mean_exp_phd': df[df['education'] == 'PhD']['experience'].mean().round(2),\n",
    "        'high_income_count': (df['income'] > 100000).sum(),\n",
    "        'mean_satisfaction_finance': df[df['department'] == 'Finance']['satisfaction'].mean().round(2)\n",
    "    } # Верните словарь с результатами"
   ]
  },
  {
   "cell_type": "code",
   "execution_count": null,
   "id": "14e35646",
   "metadata": {},
   "outputs": [
    {
     "data": {
      "text/plain": [
       "{'mean_income_over_30': 51475.52,\n",
       " 'max_bonus_it': 9993.52,\n",
       " 'mean_exp_phd': 5.01,\n",
       " 'high_income_count': 783,\n",
       " 'mean_satisfaction_finance': 3.01}"
      ]
     },
     "metadata": {},
     "output_type": "display_data"
    }
   ],
   "source": [
    "task4_data_filtering()"
   ]
  },
  {
   "cell_type": "markdown",
   "id": "9ac091a4",
   "metadata": {},
   "source": [
    "#### Задние 5"
   ]
  },
  {
   "cell_type": "code",
   "execution_count": null,
   "id": "bcb90ee7",
   "metadata": {},
   "outputs": [],
   "source": [
    "def task5_sorting_ranking(data_file='../data/data_pd.csv'):\n",
    "    \"\"\"\n",
    "    Задание 5: Сортировка и ранжирование\n",
    "\n",
    "    Используя DataFrame из data_pd.csv, вычислите:\n",
    "    1. Топ-5 сотрудников по доходу (округлите до 2 знаков после запятой)\n",
    "    2. Топ-5 сотрудников по опыту работы\n",
    "    3. Топ-5 сотрудников по производительности (округлите до 3 знаков после запятой)\n",
    "    4. Топ-5 сотрудников по бонусу (округлите до 2 знаков после запятой)\n",
    "\n",
    "    Returns:\n",
    "        dict: {\n",
    "            'top_income': [доход_1, доход_2, доход_3, доход_4, доход_5],\n",
    "            'top_experience': [опыт_1, опыт_2, опыт_3, опыт_4, опыт_5],\n",
    "            'top_performance': [производительность_1, производительность_2, производительность_3, производительность_4, производительность_5],\n",
    "            'top_bonus': [бонус_1, бонус_2, бонус_3, бонус_4, бонус_5]\n",
    "        }\n",
    "    \"\"\"\n",
    "    # Загрузка данных\n",
    "    df = pd.read_csv(data_file)\n",
    "    \n",
    "    # Ваше решение\n",
    "    \n",
    "    return {\n",
    "        'top_income': df['income'].sort_values(ascending=False).head(5).round(2).to_list(),\n",
    "        'top_experience': df['experience'].sort_values(ascending=False).head(5).to_list(),\n",
    "        'top_performance': df['performance'].sort_values(ascending=False).head().round(3).to_list(),\n",
    "        'top_bonus': df['bonus'].sort_values(ascending=False).head(5).round(2).to_list()\n",
    "    } # Верните словарь с результатами"
   ]
  },
  {
   "cell_type": "code",
   "execution_count": null,
   "id": "90477f79",
   "metadata": {},
   "outputs": [
    {
     "data": {
      "text/plain": [
       "{'top_income': [489462.13, 447885.59, 367934.05, 349946.31, 318273.12],\n",
       " 'top_experience': [15, 15, 14, 14, 14],\n",
       " 'top_performance': [0.885, 0.836, 0.835, 0.829, 0.827],\n",
       " 'top_bonus': [9994.35, 9993.97, 9993.52, 9991.29, 9990.62]}"
      ]
     },
     "metadata": {},
     "output_type": "display_data"
    }
   ],
   "source": [
    "task5_sorting_ranking()"
   ]
  },
  {
   "cell_type": "markdown",
   "id": "80dfa943",
   "metadata": {},
   "source": [
    "#### Задние 6"
   ]
  },
  {
   "cell_type": "code",
   "execution_count": null,
   "id": "932364c4",
   "metadata": {},
   "outputs": [],
   "source": [
    "def task6_income_statistics(data_file='../data/data_pd.csv'):\n",
    "    \"\"\"\n",
    "    Задание 6: Вычисление статистик\n",
    "\n",
    "    Используя DataFrame из data_pd.csv, вычислите:\n",
    "    1. Среднее значение дохода (округлите до 2 знаков после запятой)\n",
    "    2. Медиану дохода (округлите до 2 знаков после запятой)\n",
    "\n",
    "    Returns:\n",
    "        dict: {\n",
    "            'mean_income': среднее_дохода,\n",
    "            'median_income': медиана_дохода\n",
    "        }\n",
    "    \"\"\"\n",
    "    # Загрузка данных\n",
    "    df = pd.read_csv(data_file)\n",
    "    \n",
    "    # Ваше решение\n",
    "    \n",
    "    return {\n",
    "        'mean_income': df['income'].mean().round(2),\n",
    "        'median_income': df['income'].median().round(2)\n",
    "    } # Верните словарь с результатами"
   ]
  },
  {
   "cell_type": "code",
   "execution_count": null,
   "id": "551a9aae",
   "metadata": {},
   "outputs": [
    {
     "data": {
      "text/plain": [
       "{'mean_income': 49627.81, 'median_income': 35020.3}"
      ]
     },
     "metadata": {},
     "output_type": "display_data"
    }
   ],
   "source": [
    "task6_income_statistics()"
   ]
  },
  {
   "cell_type": "markdown",
   "id": "6c27e59c",
   "metadata": {},
   "source": [
    "#### Задние 7"
   ]
  },
  {
   "cell_type": "code",
   "execution_count": null,
   "id": "e1a19845",
   "metadata": {},
   "outputs": [],
   "source": [
    "def task7_bernoulli_distribution(bernoulli_file='../data/bernoulli.npy'):\n",
    "    \"\"\"\n",
    "    Задание 7: Распределение Бернулли\n",
    "\n",
    "    Дана выборка из распределения Бернулли в файле bernoulli.npy.\n",
    "    \n",
    "    Вычислите:\n",
    "    1. Оценку вероятности успеха p̂ (округлите до 3 знаков после запятой)\n",
    "    2. Вероятность получить не менее 60 успехов в 100 испытаниях, если вероятность успеха равна p̂ \n",
    "       (округлите до 3 знаков после запятой)\n",
    "\n",
    "    Returns:\n",
    "        dict: {\n",
    "            'p_hat': p̂,\n",
    "            'p_at_least_60': P(X>=60)\n",
    "        }\n",
    "    \"\"\"\n",
    "    # Загрузка данных\n",
    "    bernoulli_sample = np.load(bernoulli_file)\n",
    "    \n",
    "    # Ваше решение\n",
    "    p_hat = bernoulli_sample.mean().round(3)\n",
    "    n = 100\n",
    "    k = 59\n",
    "    p_at_least_60 = (1.0 - stats.binom.cdf(k, n, p_hat)).round(3)\n",
    "    \n",
    "    return {\n",
    "        'p_hat': p_hat,\n",
    "        'p_at_least_60': p_at_least_60\n",
    "    } # Верните словарь с результатами"
   ]
  },
  {
   "cell_type": "code",
   "execution_count": null,
   "id": "d5d8ce3c",
   "metadata": {},
   "outputs": [
    {
     "data": {
      "text/plain": [
       "array([0, 1, 0, ..., 1, 1, 0], dtype=int64)"
      ]
     },
     "metadata": {},
     "output_type": "display_data"
    }
   ],
   "source": [
    "np.load('../data/bernoulli.npy')"
   ]
  },
  {
   "cell_type": "code",
   "execution_count": null,
   "id": "8c93eb36",
   "metadata": {},
   "outputs": [
    {
     "data": {
      "text/plain": [
       "{'p_hat': 0.699, 'p_at_least_60': 0.987}"
      ]
     },
     "metadata": {},
     "output_type": "display_data"
    }
   ],
   "source": [
    "task7_bernoulli_distribution()"
   ]
  },
  {
   "cell_type": "markdown",
   "id": "bc49f96c",
   "metadata": {},
   "source": [
    "#### Задние 8"
   ]
  },
  {
   "cell_type": "code",
   "execution_count": null,
   "id": "97286ad6",
   "metadata": {},
   "outputs": [],
   "source": [
    "def task8_poisson_distribution(poisson_file='../data/poisson.npy'):\n",
    "    \"\"\"\n",
    "    Задание 8: Распределение Пуассона\n",
    "\n",
    "    Дана выборка из распределения Пуассона в файле poisson.npy.\n",
    "    \n",
    "    Вычислите:\n",
    "    1. Оценку параметра λ (округлите до 2 знаков после запятой)\n",
    "    2. Вероятность того, что случайная величина примет значение 3 (округлите до 3 знаков после запятой)\n",
    "    3. Вероятность того, что случайная величина примет значение больше 5 (округлите до 3 знаков после запятой)\n",
    "\n",
    "    Returns:\n",
    "        dict: {\n",
    "            'lambda_hat': λ̂,\n",
    "            'p_x_equals_3': P(X=3),\n",
    "            'p_x_greater_5': P(X>5)\n",
    "        }\n",
    "    \"\"\"\n",
    "    # Загрузка данных\n",
    "    poisson_sample = np.load(poisson_file)\n",
    "    \n",
    "    # Ваше решение\n",
    "    lambda_hat = poisson_sample.mean().round(2)\n",
    "    p_x_equals_3 = stats.poisson.pmf(3, mu=lambda_hat).round(3)\n",
    "    p_x_greater_5 = 1 - stats.poisson.cdf(5, mu=lambda_hat).round(3)\n",
    "    \n",
    "    return {\n",
    "        'lambda_hat': lambda_hat,\n",
    "        'p_x_equals_3': p_x_equals_3,\n",
    "        'p_x_greater_5': p_x_greater_5\n",
    "    } # Верните словарь с результатами"
   ]
  },
  {
   "cell_type": "code",
   "execution_count": null,
   "id": "344a098a",
   "metadata": {},
   "outputs": [
    {
     "data": {
      "text/plain": [
       "array([7, 5, 5, ..., 3, 8, 5], dtype=int64)"
      ]
     },
     "metadata": {},
     "output_type": "display_data"
    }
   ],
   "source": [
    "np.load('../data/poisson.npy')"
   ]
  },
  {
   "cell_type": "code",
   "execution_count": null,
   "id": "6581042f",
   "metadata": {},
   "outputs": [
    {
     "data": {
      "text/plain": [
       "{'lambda_hat': 4.97, 'p_x_equals_3': 0.142, 'p_x_greater_5': 0.379}"
      ]
     },
     "metadata": {},
     "output_type": "display_data"
    }
   ],
   "source": [
    "task8_poisson_distribution()"
   ]
  },
  {
   "cell_type": "markdown",
   "id": "fae3c147",
   "metadata": {},
   "source": [
    "#### Задние 9"
   ]
  },
  {
   "cell_type": "code",
   "execution_count": null,
   "id": "1065da2d",
   "metadata": {},
   "outputs": [],
   "source": [
    "def task9_exponential_distribution(exponential_file='../data/exponential.npy'):\n",
    "    \"\"\"\n",
    "    Задание 9: Экспоненциальное распределение\n",
    "\n",
    "    Дана выборка из экспоненциального распределения в файле exponential.npy.\n",
    "    \n",
    "    Вычислите:\n",
    "    1. Оценку параметра λ (округлите до 3 знаков после запятой)\n",
    "    2. Вероятность того, что случайная величина примет значение больше 15 (округлите до 3 знаков после запятой)\n",
    "\n",
    "    Returns:\n",
    "        dict: {\n",
    "            'lambda_hat': λ̂,\n",
    "            'p_x_greater_15': P(X>15)\n",
    "        }\n",
    "    \"\"\"\n",
    "    # Загрузка данных\n",
    "    exp_sample = np.load(exponential_file)\n",
    "    \n",
    "    # Ваше решение\n",
    "    lambda_hat = (1 / exp_sample.mean()).round(3)\n",
    "    p_x_greater_15 = (1.0 - stats.expon.cdf(15, scale=1 / lambda_hat)).round(3)\n",
    "    \n",
    "    return {\n",
    "        'lambda_hat': lambda_hat,\n",
    "        'p_x_greater_15': p_x_greater_15\n",
    "    } # Верните словарь с результатами "
   ]
  },
  {
   "cell_type": "code",
   "execution_count": null,
   "id": "f301e232",
   "metadata": {},
   "outputs": [
    {
     "data": {
      "text/plain": [
       "array([ 9.24670368, 25.19248645,  8.41129875, ..., 13.10455002,\n",
       "       35.24265173, 13.47578032])"
      ]
     },
     "metadata": {},
     "output_type": "display_data"
    }
   ],
   "source": [
    "np.load('../data/exponential.npy')"
   ]
  },
  {
   "cell_type": "code",
   "execution_count": null,
   "id": "b197a9f5",
   "metadata": {},
   "outputs": [
    {
     "data": {
      "text/plain": [
       "{'lambda_hat': 0.103, 'p_x_greater_15': 0.213}"
      ]
     },
     "metadata": {},
     "output_type": "display_data"
    }
   ],
   "source": [
    "task9_exponential_distribution()"
   ]
  }
 ],
 "metadata": {
  "kernelspec": {
   "display_name": "Python 3",
   "language": "python",
   "name": "python3"
  },
  "language_info": {
   "name": "python",
   "version": "3.11.4"
  }
 },
 "nbformat": 4,
 "nbformat_minor": 5
}
